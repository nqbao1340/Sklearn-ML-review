{
 "cells": [
  {
   "cell_type": "code",
   "execution_count": 3,
   "metadata": {},
   "outputs": [],
   "source": [
    "import matplotlib.pyplot as plt"
   ]
  },
  {
   "cell_type": "code",
   "execution_count": 6,
   "metadata": {},
   "outputs": [],
   "source": [
    "x = [i for i in range(10)]\n",
    "print(x)"
   ]
  },
  {
   "cell_type": "code",
   "execution_count": 9,
   "metadata": {},
   "outputs": [
    {
     "name": "stdout",
     "output_type": "stream",
     "text": [
      "[0, 2, 4, 6, 8, 10, 12, 14, 16, 18]\n"
     ]
    }
   ],
   "source": [
    "y = [2*i for i in range(10)]\n",
    "print(y)"
   ]
  },
  {
   "cell_type": "code",
   "execution_count": 13,
   "metadata": {},
   "outputs": [
    {
     "data": {
      "text/plain": [
       "Text(0, 0.5, 'vertical')"
      ]
     },
     "execution_count": 13,
     "metadata": {},
     "output_type": "execute_result"
    },
    {
     "data": {
      "image/png": "[encoded data removed]",
      "text/plain": [
       "<Figure size 432x288 with 1 Axes>"
      ]
     },
     "metadata": {
      "needs_background": "light"
     },
     "output_type": "display_data"
    }
   ],
   "source": [
    "plt.plot(x,y)\n",
    "plt.xlabel(\"horizontal\")\n",
    "plt.ylabel(\"vertical\")"
   ]
  },
  {
   "cell_type": "code",
   "execution_count": 15,
   "metadata": {},
   "outputs": [
    {
     "data": {
      "text/plain": [
       "<matplotlib.collections.PathCollection at 0x1e996c958e0>"
      ]
     },
     "execution_count": 15,
     "metadata": {},
     "output_type": "execute_result"
    },
    {
     "data": {
      "image/png": "[encoded data removed]",
      "text/plain": [
       "<Figure size 432x288 with 1 Axes>"
      ]
     },
     "metadata": {
      "needs_background": "light"
     },
     "output_type": "display_data"
    }
   ],
   "source": [
    "plt.scatter(x,y)"
   ]
  },
  {
   "cell_type": "markdown",
   "metadata": {},
   "source": [
    "## KNN Classification"
   ]
  },
  {
   "cell_type": "code",
   "execution_count": 46,
   "metadata": {},
   "outputs": [
    {
     "name": "stdout",
     "output_type": "stream",
     "text": [
      "0.7023121387283237\n"
     ]
    },
    {
     "name": "stderr",
     "output_type": "stream",
     "text": [
      "<ipython-input-46-621fb87e1d46>:27: SettingWithCopyWarning: \n",
      "A value is trying to be set on a copy of a slice from a DataFrame.\n",
      "Try using .loc[row_indexer,col_indexer] = value instead\n",
      "\n",
      "See the caveats in the documentation: https://pandas.pydata.org/pandas-docs/stable/user_guide/indexing.html#returning-a-view-versus-a-copy\n",
      "  y[\"class\"] = y['class'].map(label_mapping)\n",
      "<ipython-input-46-621fb87e1d46>:33: DataConversionWarning: A column-vector y was passed when a 1d array was expected. Please change the shape of y to (n_samples, ), for example using ravel().\n",
      "  knn.fit(X_train, y_train)\n"
     ]
    }
   ],
   "source": [
    "# KNN classification\n",
    "import numpy as np\n",
    "import pandas as pd\n",
    "from sklearn import neighbors, metrics\n",
    "from sklearn.model_selection import train_test_split\n",
    "from sklearn.preprocessing import LabelEncoder\n",
    "\n",
    "data = pd.read_csv(\"car.data\")\n",
    "X = data[[\n",
    "    \"buying\", \n",
    "    \"maint\", \n",
    "    \"safety\"\n",
    "]].values\n",
    "y = data[[\"class\"]]\n",
    "\n",
    "#Converting data\n",
    "Le = LabelEncoder()\n",
    "for i in range(len(X[0])):\n",
    "    X[:,i] = Le.fit_transform(X[:,i])\n",
    "\n",
    "label_mapping = {\n",
    "    \"unacc\" : 0,\n",
    "    \"acc\" : 1,\n",
    "    \"good\" : 2,\n",
    "    \"vgood\" : 3\n",
    "}\n",
    "y[\"class\"] = y['class'].map(label_mapping)\n",
    "y = np.array(y)\n",
    "\n",
    "# Create KNN model\n",
    "knn = neighbors.KNeighborsClassifier(n_neighbors=25, weights=\"uniform\")\n",
    "X_train, X_test, y_train, y_test = train_test_split(X, y, test_size = 0.2)\n",
    "knn.fit(X_train, y_train)\n",
    "prediction = knn.predict(X_test)\n",
    "accuracy = metrics.accuracy_score(y_test, prediction)\n",
    "print(accuracy)"
   ]
  },
  {
   "cell_type": "markdown",
   "metadata": {},
   "source": [
    "## SVM classification"
   ]
  },
  {
   "cell_type": "code",
   "execution_count": 65,
   "metadata": {},
   "outputs": [
    {
     "name": "stdout",
     "output_type": "stream",
     "text": [
      "prediction:  [1 0 2 0 0 1 1 1 1 0 2 1 2 0 0 1 0 2 0 0 1 0 2 1 0 1 1 2 1 0]\n",
      "actual    :  [1 0 2 0 0 1 1 1 1 0 2 1 2 0 0 1 0 2 0 0 1 0 2 1 0 1 1 2 1 0]\n",
      "1.0\n"
     ]
    }
   ],
   "source": [
    "# SVM\n",
    "# Split data \n",
    "from sklearn import datasets\n",
    "import numpy as np\n",
    "from sklearn.model_selection import train_test_split\n",
    "from sklearn import svm\n",
    "from sklearn.metrics import accuracy_score\n",
    "iris = datasets.load_iris()\n",
    "X = iris.data\n",
    "y = iris.target\n",
    "\n",
    "classes = [\"Iris Setosa\", \"Iris Versicolour\", \"Iris Virginica\"]\n",
    "\n",
    "X_train, X_test, y_train, y_test = train_test_split(X, y, test_size = 0.2)\n",
    "model = svm.SVC()\n",
    "model.fit(X_train, y_train)\n",
    "prediction = model.predict(X_test)\n",
    "acc = metrics.accuracy_score(y_test, prediction)\n",
    "print(\"prediction: \", prediction)\n",
    "print(\"actual    : \", y_test)\n",
    "print(acc)"
   ]
  },
  {
   "cell_type": "markdown",
   "metadata": {},
   "source": [
    "## Linear regression"
   ]
  },
  {
   "cell_type": "code",
   "execution_count": 112,
   "metadata": {},
   "outputs": [
    {
     "name": "stdout",
     "output_type": "stream",
     "text": [
      "R squared:  0.7238051896324769\n",
      "coefficients:  [-1.17449443e-01  3.31655961e-02  4.82993274e-03  2.70409937e+00\n",
      " -1.95655728e+01  4.02542147e+00  9.88424896e-04 -1.49189948e+00\n",
      "  2.69401657e-01 -8.88909219e-03 -9.74654902e-01  9.85063753e-03\n",
      " -5.34508381e-01]\n",
      "Intercept:  35.74675800186051\n",
      "                            OLS Regression Results                            \n",
      "==============================================================================\n",
      "Dep. Variable:                      y   R-squared:                       0.724\n",
      "Model:                            OLS   Adj. R-squared:                  0.715\n",
      "Method:                 Least Squares   F-statistic:                     78.62\n",
      "Date:                Tue, 22 Dec 2020   Prob (F-statistic):          2.79e-100\n",
      "Time:                        11:05:54   Log-Likelihood:                -1210.7\n",
      "No. Observations:                 404   AIC:                             2449.\n",
      "Df Residuals:                     390   BIC:                             2506.\n",
      "Df Model:                          13                                         \n",
      "Covariance Type:            nonrobust                                         \n",
      "==============================================================================\n",
      "                 coef    std err          t      P>|t|      [0.025      0.975]\n",
      "------------------------------------------------------------------------------\n",
      "const         35.7468      6.082      5.878      0.000      23.790      47.704\n",
      "x1            -0.1174      0.041     -2.839      0.005      -0.199      -0.036\n",
      "x2             0.0332      0.016      2.031      0.043       0.001       0.065\n",
      "x3             0.0048      0.072      0.067      0.947      -0.137       0.147\n",
      "x4             2.7041      1.002      2.699      0.007       0.734       4.674\n",
      "x5           -19.5656      4.426     -4.420      0.000     -28.268     -10.863\n",
      "x6             4.0254      0.492      8.186      0.000       3.059       4.992\n",
      "x7             0.0010      0.016      0.064      0.949      -0.030       0.032\n",
      "x8            -1.4919      0.233     -6.395      0.000      -1.951      -1.033\n",
      "x9             0.2694      0.078      3.441      0.001       0.115       0.423\n",
      "x10           -0.0089      0.004     -2.033      0.043      -0.017      -0.000\n",
      "x11           -0.9747      0.152     -6.400      0.000      -1.274      -0.675\n",
      "x12            0.0099      0.003      3.095      0.002       0.004       0.016\n",
      "x13           -0.5345      0.063     -8.548      0.000      -0.657      -0.412\n",
      "==============================================================================\n",
      "Omnibus:                      150.671   Durbin-Watson:                   2.011\n",
      "Prob(Omnibus):                  0.000   Jarque-Bera (JB):              678.601\n",
      "Skew:                           1.574   Prob(JB):                    4.40e-148\n",
      "Kurtosis:                       8.513   Cond. No.                     1.55e+04\n",
      "==============================================================================\n",
      "\n",
      "Notes:\n",
      "[1] Standard Errors assume that the covariance matrix of the errors is correctly specified.\n",
      "[2] The condition number is large, 1.55e+04. This might indicate that there are\n",
      "strong multicollinearity or other numerical problems.\n"
     ]
    }
   ],
   "source": [
    "# linear regression\n",
    "import pandas as pd\n",
    "import numpy as np\n",
    "from sklearn import datasets\n",
    "from sklearn import linear_model\n",
    "from sklearn.model_selection import train_test_split\n",
    "from matplotlib import pyplot as plt\n",
    "from scipy import stats\n",
    "import statsmodels.api as sm\n",
    "\n",
    "boston = datasets.load_boston()\n",
    "\n",
    "#features/label\n",
    "X = boston.data\n",
    "y = boston.target\n",
    "X_train, X_test, y_train, y_test = train_test_split(X, y, test_size = 0.2)\n",
    "\n",
    "#LR\n",
    "l_reg = linear_model.LinearRegression()\n",
    "l_reg.fit(X_train,y_train)\n",
    "prediction = l_reg.predict(X_test)\n",
    "print(\"R squared: \", l_reg.score(X_train,y_train))\n",
    "print(\"coefficients: \",l_reg.coef_)\n",
    "print(\"Intercept: \",l_reg.intercept_)\n",
    "\n",
    "# statsmodel (on purpose of getting the summary table)\n",
    "x2 = sm.add_constant(X_train)\n",
    "models = sm.OLS(y_train,x2)\n",
    "result = models.fit()\n",
    "print(result.summary())"
   ]
  },
  {
   "cell_type": "markdown",
   "metadata": {},
   "source": [
    "## K means clustering"
   ]
  },
  {
   "cell_type": "code",
   "execution_count": 165,
   "metadata": {},
   "outputs": [
    {
     "name": "stdout",
     "output_type": "stream",
     "text": [
      "Labels:  [0 0 0 1 1 1 1 0 0 1 1 1 1 0 0 1 0 0 0 0 0 0 1 0 0 0 0 1 0 0 1 0 0 1 1 0 1\n",
      " 1 0 0 0 0 1 1 0 1 0 1 0 1 0 0 0 0 0 1 0 0 0 0 1 0 0 0 1 0 0 0 1 0 1 1 0 0\n",
      " 0 0 0 0 1 0 0 0 1 1 0 1 1 0 0 0 1 0 1 0 0 0 0 1 1 0 0 1 1 0 0 0 0 1 1 0 1\n",
      " 0 0 0 0 0 0 0 0 0 1 0 0 1 0 0 0 0 0 0 1 0 0 0 0 0 1 0 0 0 0 0 1 0 0 1 0 0\n",
      " 0 1 1 0 0 0 0 1 0 0 1 0 0 0 1 0 0 0 0 0 0 0 0 0 1 0 1 0 0 1 0 0 0 0 0 0 1\n",
      " 0 0 0 0 0 0 1 0 0 0 0 1 1 1 0 0 0 0 0 1 1 1 1 0 0 0 0 0 0 1 1 1 0 0 1 0 1\n",
      " 0 0 0 0 1 0 0 0 0 0 1 0 0 1 0 1 0 1 0 0 0 0 0 1 0 0 0 0 0 0 0 0 1 0 0 0 0\n",
      " 1 1 0 0 1 0 0 0 0 0 1 0 0 0 1 0 0 0 0 0 1 0 0 0 0 0 1 0 0 1 1 1 1 0 1 1 0\n",
      " 0 1 0 0 0 1 0 1 0 1 0 0 0 1 0 0 0 0 1 0 0 0 1 0 0 1 0 0 0 0 1 0 1 0 0 0 0\n",
      " 0 0 0 0 1 1 0 1 1 0 1 0 0 1 1 0 0 0 0 0 0 0 0 1 0 0 0 0 1 1 0 0 0 1 0 0 0\n",
      " 0 0 1 0 0 0 1 0 1 1 0 0 0 1 0 0 1 0 0 0 1 0 0 0 0 0 1 0 0 1 1 1 0 0 0 1 1\n",
      " 0 0 1 0 0 0 1 0 1 1 0 1 0 0 1 1 1 0 1 0 1 1 0 1 0 0 0 1 0 0 0 1 1 1 0 1 0\n",
      " 0 1 0 0 0 1 1 1 1 1 1 0 1 0 0 0 0 0 1 0 0 0 0 1 1 0 1 1 0 0 0 1 0 0 0 0 0\n",
      " 1 0 0 1 0 1 1 0 0 1 1 1 1 0 1 1 1 0 0 1 0 0 0 0 1 1 1 0 0 0 1 0 0 0 1 0 0\n",
      " 0 1 1 1 0 1 1 0 1 0 1 0 1 0 1 0 0 0 0 0 1 1 1 0 0 0 1 1 1 0 0 1 1 0 1 0 1\n",
      " 1 0 0 1 0 0 0 0]\n",
      "Predictions:  [0 1 0 1 0 0]\n",
      "Actual:       [1 0 1 0 1 1]\n",
      "Accuracy:  0.0\n",
      "col_0    0    1\n",
      "row_0          \n",
      "0       36  174\n",
      "1      335   18\n"
     ]
    }
   ],
   "source": [
    "from sklearn.datasets import load_breast_cancer\n",
    "from sklearn.cluster import KMeans\n",
    "from sklearn.model_selection import train_test_split\n",
    "from sklearn.metrics import accuracy_score\n",
    "from sklearn.preprocessing import scale\n",
    "import pandas as pd\n",
    "\n",
    "bc = load_breast_cancer()\n",
    "X = scale(bc.data)\n",
    "y = bc.target\n",
    "\n",
    "X_train, X_test, y_train, y_test = train_test_split(X,y, test_size=6)\n",
    "model = KMeans(n_clusters=2, random_state=0)\n",
    "model.fit(X_train)\n",
    "prediction = model.predict(X_test)\n",
    "labels = model.labels_\n",
    "print(\"Labels: \", labels)\n",
    "print(\"Predictions: \", prediction)\n",
    "print(\"Actual:      \", y_test)\n",
    "print(\"Accuracy: \", accuracy_score(y_test,prediction))\n",
    "print(pd.crosstab(y_train, labels))"
   ]
  },
  {
   "cell_type": "markdown",
   "metadata": {},
   "source": []
  },
  {
   "cell_type": "code",
   "execution_count": null,
   "metadata": {},
   "outputs": [],
   "source": []
  }
 ],
 "metadata": {
  "kernelspec": {
   "display_name": "Python 3",
   "language": "python",
   "name": "python3"
  },
  "language_info": {
   "codemirror_mode": {
    "name": "ipython",
    "version": 3
   },
   "file_extension": ".py",
   "mimetype": "text/x-python",
   "name": "python",
   "nbconvert_exporter": "python",
   "pygments_lexer": "ipython3",
   "version": "3.8.5"
  }
 },
 "nbformat": 4,
 "nbformat_minor": 4
}
